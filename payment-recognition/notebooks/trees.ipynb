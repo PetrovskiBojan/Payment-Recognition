{
 "cells": [
  {
   "cell_type": "code",
   "execution_count": 1,
   "metadata": {},
   "outputs": [],
   "source": [
    "import pandas as pd\n",
    "from sklearn.model_selection import train_test_split\n",
    "from sklearn.preprocessing import StandardScaler\n",
    "from sklearn.linear_model import LogisticRegression\n",
    "from sklearn.ensemble import RandomForestClassifier, GradientBoostingClassifier\n",
    "from sklearn.svm import SVC\n",
    "from sklearn.neighbors import KNeighborsClassifier\n",
    "from sklearn.naive_bayes import GaussianNB\n",
    "from sklearn.metrics import accuracy_score, classification_report\n",
    "from tqdm import tqdm\n",
    "from sklearn.tree import DecisionTreeClassifier\n",
    "import tensorflow as tf\n",
    "from tensorflow.keras.models import Sequential\n",
    "from tensorflow.keras.layers import Dense\n",
    "from sklearn.preprocessing import LabelEncoder\n",
    "from sklearn.model_selection import train_test_split\n",
    "from sklearn.model_selection import GridSearchCV\n",
    "#from catboost import CatBoostClassifier"
   ]
  },
  {
   "cell_type": "code",
   "execution_count": 17,
   "metadata": {},
   "outputs": [],
   "source": [
    "import os\n",
    "import joblib"
   ]
  },
  {
   "cell_type": "code",
   "execution_count": 2,
   "metadata": {},
   "outputs": [],
   "source": [
    "# Load the data\n",
    "train_data_path = '../data/clean/train_data.csv'\n",
    "test_data_path = '../data/clean/test_data.csv'\n",
    "train_df = pd.read_csv(train_data_path)\n",
    "test_df = pd.read_csv(test_data_path)"
   ]
  },
  {
   "cell_type": "code",
   "execution_count": 3,
   "metadata": {},
   "outputs": [],
   "source": [
    "# Assuming 'reference' is the label column and all other columns are features\n",
    "label_col = 'reference'"
   ]
  },
  {
   "cell_type": "code",
   "execution_count": 4,
   "metadata": {},
   "outputs": [],
   "source": [
    "# Define features and labels\n",
    "X_train = train_df.drop(columns=[label_col])\n",
    "y_train = train_df[label_col]\n",
    "X_test = test_df.drop(columns=[label_col])\n",
    "y_test = test_df[label_col]"
   ]
  },
  {
   "cell_type": "code",
   "execution_count": 5,
   "metadata": {},
   "outputs": [],
   "source": [
    "X_test, X_validate, y_test, y_validate = train_test_split(X_test, y_test, test_size=0.5, random_state=42)"
   ]
  },
  {
   "cell_type": "code",
   "execution_count": 12,
   "metadata": {},
   "outputs": [],
   "source": [
    "# Define parameter grids for each classifier\n",
    "param_grid_dt = {\n",
    "    'max_depth': [3, 5, 7],\n",
    "    'min_samples_split': [2, 5, 10],\n",
    "    'min_samples_leaf': [1, 2, 4]\n",
    "}\n",
    "\n",
    "param_grid_rf = {\n",
    "    'n_estimators': [10, 20, 50],\n",
    "    'max_depth': [3, 6],\n",
    "    'min_samples_split': [2, 6],\n",
    "    'min_samples_leaf': [1, 2]\n",
    "}\n",
    "\n",
    "param_grid_lr = {\n",
    "    'C': [0.1, 1, 5],\n",
    "    'solver': ['liblinear', 'saga']\n",
    "}"
   ]
  },
  {
   "cell_type": "code",
   "execution_count": 14,
   "metadata": {},
   "outputs": [],
   "source": [
    "# Initialize classifiers\n",
    "classifiers = {\n",
    "    'Decision Tree': DecisionTreeClassifier(),\n",
    "    #'Random Forest': RandomForestClassifier(),\n",
    "    #'Logistic Regression': LogisticRegression(),\n",
    "}"
   ]
  },
  {
   "cell_type": "code",
   "execution_count": 20,
   "metadata": {},
   "outputs": [
    {
     "name": "stderr",
     "output_type": "stream",
     "text": [
      "Training classifiers:   0%|          | 0/1 [00:00<?, ?it/s]"
     ]
    },
    {
     "name": "stdout",
     "output_type": "stream",
     "text": [
      "Training Decision Tree...\n"
     ]
    },
    {
     "name": "stderr",
     "output_type": "stream",
     "text": [
      "Training classifiers: 100%|██████████| 1/1 [00:01<00:00,  1.84s/it]"
     ]
    },
    {
     "name": "stdout",
     "output_type": "stream",
     "text": [
      "Finished training Decision Tree. Predicting...\n",
      "Results for Decision Tree:\n",
      "Accuracy: 1.0\n",
      "Classification Report:\n",
      "               precision    recall  f1-score   support\n",
      "\n",
      " 113786128087       1.00      1.00      1.00         1\n",
      " 185490581724       1.00      1.00      1.00         1\n",
      " 250499494341       1.00      1.00      1.00         1\n",
      " 280058063756       1.00      1.00      1.00         1\n",
      " 286714244682       1.00      1.00      1.00         2\n",
      " 328221939283       1.00      1.00      1.00         1\n",
      " 537697808478       1.00      1.00      1.00         1\n",
      " 743662015790       1.00      1.00      1.00         1\n",
      " 826199067422       1.00      1.00      1.00         1\n",
      "1049262191674       1.00      1.00      1.00         1\n",
      "1306058720853       1.00      1.00      1.00         2\n",
      "1336506238357       1.00      1.00      1.00         3\n",
      "1533904580570       1.00      1.00      1.00         1\n",
      "1580256897801       1.00      1.00      1.00         1\n",
      "1770545475005       1.00      1.00      1.00         1\n",
      "1783318797907       1.00      1.00      1.00         1\n",
      "1951773176975       1.00      1.00      1.00         1\n",
      "2076238806514       1.00      1.00      1.00         1\n",
      "2106427749596       1.00      1.00      1.00         2\n",
      "2256314282184       1.00      1.00      1.00         1\n",
      "2486638229910       1.00      1.00      1.00         1\n",
      "2597083163466       1.00      1.00      1.00         2\n",
      "2651045860067       1.00      1.00      1.00         2\n",
      "2679402270342       1.00      1.00      1.00         3\n",
      "2679959475313       1.00      1.00      1.00         1\n",
      "2770722474967       1.00      1.00      1.00         2\n",
      "2954884279091       1.00      1.00      1.00         1\n",
      "3138481838984       1.00      1.00      1.00         2\n",
      "3289832759110       1.00      1.00      1.00         1\n",
      "3316150159978       1.00      1.00      1.00         1\n",
      "3341075162208       1.00      1.00      1.00         1\n",
      "3659221093116       1.00      1.00      1.00         1\n",
      "3813371315607       1.00      1.00      1.00         1\n",
      "3989292208264       1.00      1.00      1.00         1\n",
      "4165255225748       1.00      1.00      1.00         1\n",
      "4208732024103       1.00      1.00      1.00         1\n",
      "4472781677133       1.00      1.00      1.00         1\n",
      "4538879046561       1.00      1.00      1.00         2\n",
      "4585126542635       1.00      1.00      1.00         1\n",
      "4661715593087       1.00      1.00      1.00         2\n",
      "4728042705191       1.00      1.00      1.00         1\n",
      "4817583315317       1.00      1.00      1.00         1\n",
      "4834773889212       1.00      1.00      1.00         1\n",
      "5010415322265       1.00      1.00      1.00         1\n",
      "5247553205796       1.00      1.00      1.00         2\n",
      "5336616765398       1.00      1.00      1.00         1\n",
      "5409892540642       1.00      1.00      1.00         3\n",
      "5451187528941       1.00      1.00      1.00         1\n",
      "5667996883069       1.00      1.00      1.00         1\n",
      "5967219891247       1.00      1.00      1.00         2\n",
      "5983645807553       1.00      1.00      1.00         1\n",
      "6122067569499       1.00      1.00      1.00         1\n",
      "6156628893334       1.00      1.00      1.00         2\n",
      "6299972544375       1.00      1.00      1.00         1\n",
      "6328932964257       1.00      1.00      1.00         1\n",
      "6408612283042       1.00      1.00      1.00         1\n",
      "6453179981900       1.00      1.00      1.00         1\n",
      "6459484251646       1.00      1.00      1.00         1\n",
      "6491906155651       1.00      1.00      1.00         1\n",
      "6517741021347       1.00      1.00      1.00         1\n",
      "6874407172400       1.00      1.00      1.00         1\n",
      "6884352547925       1.00      1.00      1.00         1\n",
      "6948559963527       1.00      1.00      1.00         2\n",
      "7071140801959       1.00      1.00      1.00         2\n",
      "7265684169358       1.00      1.00      1.00         1\n",
      "7309317192488       1.00      1.00      1.00         1\n",
      "7489889500604       1.00      1.00      1.00         1\n",
      "7644823106629       1.00      1.00      1.00         2\n",
      "7719006766096       1.00      1.00      1.00         2\n",
      "7894388317668       1.00      1.00      1.00         1\n",
      "7968585077394       1.00      1.00      1.00         1\n",
      "7989530755549       1.00      1.00      1.00         1\n",
      "8113921224386       1.00      1.00      1.00         1\n",
      "8186734526749       1.00      1.00      1.00         2\n",
      "8230387058437       1.00      1.00      1.00         1\n",
      "8264016228434       1.00      1.00      1.00         1\n",
      "8431227971125       1.00      1.00      1.00         1\n",
      "8479548305977       1.00      1.00      1.00         2\n",
      "8482366051513       1.00      1.00      1.00         1\n",
      "8595805936200       1.00      1.00      1.00         1\n",
      "8694935554190       1.00      1.00      1.00         1\n",
      "8808662008967       1.00      1.00      1.00         2\n",
      "8869977443638       1.00      1.00      1.00         1\n",
      "8921796832601       1.00      1.00      1.00         1\n",
      "9011589218534       1.00      1.00      1.00         1\n",
      "9018689380581       1.00      1.00      1.00         1\n",
      "9077035015805       1.00      1.00      1.00         1\n",
      "9103326891206       1.00      1.00      1.00         1\n",
      "9103679407260       1.00      1.00      1.00         1\n",
      "9169830292878       1.00      1.00      1.00         2\n",
      "9346178873758       1.00      1.00      1.00         1\n",
      "9519184998573       1.00      1.00      1.00         2\n",
      "9671226374841       1.00      1.00      1.00         1\n",
      "9692749465045       1.00      1.00      1.00         1\n",
      "9769745433962       1.00      1.00      1.00         1\n",
      "9841995618945       1.00      1.00      1.00         1\n",
      "9952102986052       1.00      1.00      1.00         1\n",
      "\n",
      "     accuracy                           1.00       124\n",
      "    macro avg       1.00      1.00      1.00       124\n",
      " weighted avg       1.00      1.00      1.00       124\n",
      "\n",
      "============================================================\n"
     ]
    },
    {
     "name": "stderr",
     "output_type": "stream",
     "text": [
      "\n"
     ]
    }
   ],
   "source": [
    "# Train and evaluate each classifier with progress tracking\n",
    "results = {}\n",
    "for name, clf in tqdm(classifiers.items(), desc=\"Training classifiers\"):\n",
    "    print(f\"Training {name}...\")\n",
    "    clf.fit(X_train, y_train)\n",
    "    print(f\"Finished training {name}. Predicting...\")\n",
    "    y_pred = clf.predict(X_test)\n",
    "    accuracy = accuracy_score(y_test, y_pred)\n",
    "    report = classification_report(y_test, y_pred)\n",
    "    results[name] = {\n",
    "        'accuracy': accuracy,\n",
    "        'report': report\n",
    "    }\n",
    "    print(f\"Results for {name}:\")\n",
    "    print(f\"Accuracy: {accuracy}\")\n",
    "    print(\"Classification Report:\")\n",
    "    print(report)\n",
    "    print(\"=\"*60)\n",
    "    # Define the model save path without the model filename\n",
    "   \n",
    "    model_save_path = '../../models'\n",
    "    os.makedirs(model_save_path, exist_ok=True)\n",
    "\n",
    "    # Save the model locally\n",
    "    model_filename = os.path.join(model_save_path, 'asd.joblib')\n",
    "    joblib.dump(clf, model_filename)"
   ]
  },
  {
   "cell_type": "code",
   "execution_count": null,
   "metadata": {},
   "outputs": [],
   "source": []
  },
  {
   "cell_type": "code",
   "execution_count": 6,
   "metadata": {},
   "outputs": [],
   "source": [
    "# Best hyperparameters\n",
    "best_params = {\n",
    "    'max_depth': 5,\n",
    "    'min_samples_split': 2,\n",
    "    'min_samples_leaf': 1,\n",
    "    'random_state': 42\n",
    "}\n"
   ]
  },
  {
   "cell_type": "code",
   "execution_count": 7,
   "metadata": {},
   "outputs": [],
   "source": [
    "# Initialize and train the DecisionTreeClassifier with the best parameters\n",
    "best_dt = DecisionTreeClassifier(**best_params)\n",
    "best_dt.fit(X_train, y_train)\n",
    "\n"
   ]
  },
  {
   "cell_type": "code",
   "execution_count": 10,
   "metadata": {},
   "outputs": [
    {
     "name": "stderr",
     "output_type": "stream",
     "text": [
      "c:\\Users\\Bojan\\AppData\\Local\\Programs\\Python\\Python312\\Lib\\site-packages\\sklearn\\metrics\\_classification.py:1471: UndefinedMetricWarning: Precision and F-score are ill-defined and being set to 0.0 in labels with no predicted samples. Use `zero_division` parameter to control this behavior.\n",
      "  _warn_prf(average, modifier, msg_start, len(result))\n",
      "c:\\Users\\Bojan\\AppData\\Local\\Programs\\Python\\Python312\\Lib\\site-packages\\sklearn\\metrics\\_classification.py:1471: UndefinedMetricWarning: Recall and F-score are ill-defined and being set to 0.0 in labels with no true samples. Use `zero_division` parameter to control this behavior.\n",
      "  _warn_prf(average, modifier, msg_start, len(result))\n",
      "c:\\Users\\Bojan\\AppData\\Local\\Programs\\Python\\Python312\\Lib\\site-packages\\sklearn\\metrics\\_classification.py:1471: UndefinedMetricWarning: Precision and F-score are ill-defined and being set to 0.0 in labels with no predicted samples. Use `zero_division` parameter to control this behavior.\n",
      "  _warn_prf(average, modifier, msg_start, len(result))\n",
      "c:\\Users\\Bojan\\AppData\\Local\\Programs\\Python\\Python312\\Lib\\site-packages\\sklearn\\metrics\\_classification.py:1471: UndefinedMetricWarning: Recall and F-score are ill-defined and being set to 0.0 in labels with no true samples. Use `zero_division` parameter to control this behavior.\n",
      "  _warn_prf(average, modifier, msg_start, len(result))\n",
      "c:\\Users\\Bojan\\AppData\\Local\\Programs\\Python\\Python312\\Lib\\site-packages\\sklearn\\metrics\\_classification.py:1471: UndefinedMetricWarning: Precision and F-score are ill-defined and being set to 0.0 in labels with no predicted samples. Use `zero_division` parameter to control this behavior.\n",
      "  _warn_prf(average, modifier, msg_start, len(result))\n",
      "c:\\Users\\Bojan\\AppData\\Local\\Programs\\Python\\Python312\\Lib\\site-packages\\sklearn\\metrics\\_classification.py:1471: UndefinedMetricWarning: Recall and F-score are ill-defined and being set to 0.0 in labels with no true samples. Use `zero_division` parameter to control this behavior.\n",
      "  _warn_prf(average, modifier, msg_start, len(result))\n"
     ]
    }
   ],
   "source": [
    "    y_pred = best_dt.predict(X_test)\n",
    "    accuracy = accuracy_score(y_test, y_pred)\n",
    "    report = classification_report(y_test, y_pred)"
   ]
  },
  {
   "cell_type": "code",
   "execution_count": 11,
   "metadata": {},
   "outputs": [
    {
     "name": "stdout",
     "output_type": "stream",
     "text": [
      "0.024193548387096774\n",
      "               precision    recall  f1-score   support\n",
      "\n",
      "   5413450640       0.00      0.00      0.00         0\n",
      "  19018368446       0.00      0.00      0.00         0\n",
      " 113786128087       0.00      0.00      0.00         1\n",
      " 185490581724       0.00      0.00      0.00         1\n",
      " 250499494341       0.00      0.00      0.00         1\n",
      " 280058063756       0.00      0.00      0.00         1\n",
      " 286714244682       0.00      0.00      0.00         2\n",
      " 328221939283       0.00      0.00      0.00         1\n",
      " 537697808478       0.00      0.00      0.00         1\n",
      " 743662015790       0.00      0.00      0.00         1\n",
      " 826199067422       0.00      0.00      0.00         1\n",
      "1049262191674       0.00      0.00      0.00         1\n",
      "1306058720853       0.00      0.00      0.00         2\n",
      "1336506238357       0.00      0.00      0.00         3\n",
      "1533904580570       0.00      0.00      0.00         1\n",
      "1580256897801       0.00      0.00      0.00         1\n",
      "1770545475005       0.00      0.00      0.00         1\n",
      "1783318797907       0.00      0.00      0.00         1\n",
      "1951773176975       0.00      0.00      0.00         1\n",
      "2076238806514       0.00      0.00      0.00         1\n",
      "2106427749596       0.00      0.00      0.00         2\n",
      "2256314282184       1.00      1.00      1.00         1\n",
      "2486638229910       0.00      0.00      0.00         1\n",
      "2597083163466       1.00      1.00      1.00         2\n",
      "2651045860067       0.00      0.00      0.00         2\n",
      "2679402270342       0.00      0.00      0.00         3\n",
      "2679959475313       0.00      0.00      0.00         1\n",
      "2770722474967       0.00      0.00      0.00         2\n",
      "2954884279091       0.00      0.00      0.00         1\n",
      "3138481838984       0.00      0.00      0.00         2\n",
      "3289832759110       0.00      0.00      0.00         1\n",
      "3316150159978       0.00      0.00      0.00         1\n",
      "3341075162208       0.00      0.00      0.00         1\n",
      "3659221093116       0.00      0.00      0.00         1\n",
      "3813371315607       0.00      0.00      0.00         1\n",
      "3989292208264       0.00      0.00      0.00         1\n",
      "4165255225748       0.00      0.00      0.00         1\n",
      "4208732024103       0.00      0.00      0.00         1\n",
      "4472781677133       0.00      0.00      0.00         1\n",
      "4538879046561       0.00      0.00      0.00         2\n",
      "4585126542635       0.00      0.00      0.00         1\n",
      "4661715593087       0.00      0.00      0.00         2\n",
      "4728042705191       0.00      0.00      0.00         1\n",
      "4817583315317       0.00      0.00      0.00         1\n",
      "4834773889212       0.00      0.00      0.00         1\n",
      "5010415322265       0.00      0.00      0.00         1\n",
      "5247553205796       0.00      0.00      0.00         2\n",
      "5336616765398       0.00      0.00      0.00         1\n",
      "5409892540642       0.00      0.00      0.00         3\n",
      "5451187528941       0.00      0.00      0.00         1\n",
      "5667996883069       0.00      0.00      0.00         1\n",
      "5967219891247       0.00      0.00      0.00         2\n",
      "5983645807553       0.00      0.00      0.00         1\n",
      "6122067569499       0.00      0.00      0.00         1\n",
      "6156628893334       0.00      0.00      0.00         2\n",
      "6299972544375       0.00      0.00      0.00         1\n",
      "6328932964257       0.00      0.00      0.00         1\n",
      "6408612283042       0.00      0.00      0.00         1\n",
      "6453179981900       0.00      0.00      0.00         1\n",
      "6459484251646       0.00      0.00      0.00         1\n",
      "6491906155651       0.00      0.00      0.00         1\n",
      "6517741021347       0.00      0.00      0.00         1\n",
      "6874407172400       0.00      0.00      0.00         1\n",
      "6884352547925       0.00      0.00      0.00         1\n",
      "6948559963527       0.00      0.00      0.00         2\n",
      "7071140801959       0.00      0.00      0.00         2\n",
      "7265684169358       0.00      0.00      0.00         1\n",
      "7309317192488       0.00      0.00      0.00         1\n",
      "7489889500604       0.00      0.00      0.00         1\n",
      "7644823106629       0.00      0.00      0.00         2\n",
      "7719006766096       0.00      0.00      0.00         2\n",
      "7894388317668       0.00      0.00      0.00         1\n",
      "7968585077394       0.00      0.00      0.00         1\n",
      "7989530755549       0.00      0.00      0.00         1\n",
      "8113921224386       0.00      0.00      0.00         1\n",
      "8186734526749       0.00      0.00      0.00         2\n",
      "8230387058437       0.00      0.00      0.00         1\n",
      "8264016228434       0.00      0.00      0.00         1\n",
      "8431227971125       0.00      0.00      0.00         1\n",
      "8479548305977       0.00      0.00      0.00         2\n",
      "8482366051513       0.00      0.00      0.00         1\n",
      "8595805936200       0.00      0.00      0.00         1\n",
      "8694935554190       0.00      0.00      0.00         1\n",
      "8808662008967       0.00      0.00      0.00         2\n",
      "8869977443638       0.00      0.00      0.00         1\n",
      "8921796832601       0.00      0.00      0.00         1\n",
      "9011589218534       0.00      0.00      0.00         1\n",
      "9018689380581       0.00      0.00      0.00         1\n",
      "9077035015805       0.00      0.00      0.00         1\n",
      "9103326891206       0.00      0.00      0.00         1\n",
      "9103679407260       0.00      0.00      0.00         1\n",
      "9169830292878       0.00      0.00      0.00         2\n",
      "9346178873758       0.00      0.00      0.00         1\n",
      "9519184998573       0.00      0.00      0.00         2\n",
      "9671226374841       0.00      0.00      0.00         1\n",
      "9692749465045       0.00      0.00      0.00         1\n",
      "9769745433962       0.00      0.00      0.00         1\n",
      "9841995618945       0.00      0.00      0.00         1\n",
      "9952102986052       0.00      0.00      0.00         1\n",
      "\n",
      "     accuracy                           0.02       124\n",
      "    macro avg       0.02      0.02      0.02       124\n",
      " weighted avg       0.02      0.02      0.02       124\n",
      "\n"
     ]
    }
   ],
   "source": [
    "print (accuracy)\n",
    "print (report)"
   ]
  },
  {
   "cell_type": "code",
   "execution_count": 8,
   "metadata": {},
   "outputs": [],
   "source": [
    "# Evaluate the model on test set\n",
    "accuracy = accuracy_score(y_test, y_pred)\n",
    "correct_predictions = sum(y_test == y_pred)\n",
    "incorrect_predictions = sum(y_test != y_pred)"
   ]
  },
  {
   "cell_type": "code",
   "execution_count": 9,
   "metadata": {},
   "outputs": [
    {
     "name": "stdout",
     "output_type": "stream",
     "text": [
      "0.024193548387096774\n",
      "3\n",
      "121\n"
     ]
    }
   ],
   "source": [
    "print(accuracy)\n",
    "print(correct_predictions)\n",
    "print(incorrect_predictions)"
   ]
  }
 ],
 "metadata": {
  "kernelspec": {
   "display_name": "Python 3",
   "language": "python",
   "name": "python3"
  },
  "language_info": {
   "codemirror_mode": {
    "name": "ipython",
    "version": 3
   },
   "file_extension": ".py",
   "mimetype": "text/x-python",
   "name": "python",
   "nbconvert_exporter": "python",
   "pygments_lexer": "ipython3",
   "version": "3.12.0"
  }
 },
 "nbformat": 4,
 "nbformat_minor": 2
}
